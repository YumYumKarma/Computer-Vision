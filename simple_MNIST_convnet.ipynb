{
  "nbformat": 4,
  "nbformat_minor": 0,
  "metadata": {
    "colab": {
      "provenance": [],
      "authorship_tag": "ABX9TyOzrxhMiLtun3ZEJ9d+9YhK",
      "include_colab_link": true
    },
    "kernelspec": {
      "name": "python3",
      "display_name": "Python 3"
    },
    "language_info": {
      "name": "python"
    }
  },
  "cells": [
    {
      "cell_type": "markdown",
      "metadata": {
        "id": "view-in-github",
        "colab_type": "text"
      },
      "source": [
        "<a href=\"https://colab.research.google.com/github/YumYumKarma/Computer-Vision/blob/main/simple_MNIST_convnet.ipynb\" target=\"_parent\"><img src=\"https://colab.research.google.com/assets/colab-badge.svg\" alt=\"Open In Colab\"/></a>"
      ]
    },
    {
      "cell_type": "markdown",
      "source": [
        "importing the libraries"
      ],
      "metadata": {
        "id": "BYo4gX2ia4Dt"
      }
    },
    {
      "cell_type": "code",
      "execution_count": 2,
      "metadata": {
        "id": "wX1gXlwEav0N"
      },
      "outputs": [],
      "source": [
        "import numpy as np\n",
        "import keras\n",
        "from keras import layers"
      ]
    },
    {
      "cell_type": "markdown",
      "source": [
        "preparing the data"
      ],
      "metadata": {
        "id": "OVBzooxcbcA3"
      }
    },
    {
      "cell_type": "code",
      "source": [
        "num_classes = 10\n",
        "input_shape = (28,28,1)"
      ],
      "metadata": {
        "id": "rqoy9D_abe91"
      },
      "execution_count": 1,
      "outputs": []
    },
    {
      "cell_type": "markdown",
      "source": [
        "loading the data"
      ],
      "metadata": {
        "id": "34g8QREybuXP"
      }
    },
    {
      "cell_type": "code",
      "source": [
        "(x_train,y_train),(x_test,y_test) = keras.datasets.mnist.load_data()"
      ],
      "metadata": {
        "colab": {
          "base_uri": "https://localhost:8080/"
        },
        "id": "fpJrAHz2b1L0",
        "outputId": "c40d59e8-f4ea-431f-a387-e54b721d85dc"
      },
      "execution_count": 3,
      "outputs": [
        {
          "output_type": "stream",
          "name": "stdout",
          "text": [
            "Downloading data from https://storage.googleapis.com/tensorflow/tf-keras-datasets/mnist.npz\n",
            "11490434/11490434 [==============================] - 0s 0us/step\n"
          ]
        }
      ]
    },
    {
      "cell_type": "markdown",
      "source": [
        "scale images to range [0,1]"
      ],
      "metadata": {
        "id": "XuZMuA-KcYOc"
      }
    },
    {
      "cell_type": "code",
      "source": [
        "x_train = x_train.astype(\"float32\")/255\n",
        "x_test = x_test.astype(\"float32\")/255"
      ],
      "metadata": {
        "id": "9WiKrosNcefs"
      },
      "execution_count": 4,
      "outputs": []
    },
    {
      "cell_type": "markdown",
      "source": [
        "making sure images have shape (28, 28, 1)"
      ],
      "metadata": {
        "id": "oV4zGlmxc0Ed"
      }
    },
    {
      "cell_type": "code",
      "source": [
        "x_train = np.expand_dims(x_train,-1)\n",
        "x_test = np.expand_dims(x_test,-1)\n",
        "print(\"x_train shape:\",x_train.shape)\n",
        "print(x_train.shape[0],\"train samples\")\n",
        "print(x_test.shape[0],\"test samples\")"
      ],
      "metadata": {
        "colab": {
          "base_uri": "https://localhost:8080/"
        },
        "id": "YVTYd874c6Vu",
        "outputId": "b3ab9c06-283a-4dd0-96d2-cb7b80d587d8"
      },
      "execution_count": 6,
      "outputs": [
        {
          "output_type": "stream",
          "name": "stdout",
          "text": [
            "x_train shape: (60000, 28, 28, 1, 1)\n",
            "60000 train samples\n",
            "10000 test samples\n"
          ]
        }
      ]
    },
    {
      "cell_type": "markdown",
      "source": [
        "convert class vectors to binary class matrices"
      ],
      "metadata": {
        "id": "LIsOTq3kelBE"
      }
    },
    {
      "cell_type": "code",
      "source": [
        "y_train = keras.utils.to_categorical(y_train,num_classes)\n",
        "y_test = keras.utils.to_categorical(y_test,num_classes)"
      ],
      "metadata": {
        "id": "vJppZW-fe689"
      },
      "execution_count": 7,
      "outputs": []
    },
    {
      "cell_type": "markdown",
      "source": [
        "Building the model"
      ],
      "metadata": {
        "id": "aoEUWMZAfbH2"
      }
    },
    {
      "cell_type": "code",
      "source": [
        "model = keras.Sequential([\n",
        "    keras.Input(shape=input_shape),\n",
        "    layers.Conv2D(32,kernel_size=(3,3),activation=\"relu\"),\n",
        "    layers.MaxPooling2D(pool_size=(2,2)),\n",
        "    layers.Conv2D(64,kernel_size=(3,3),activation=\"relu\"),\n",
        "    layers.MaxPooling2D(pool_size=(2,2)),\n",
        "    layers.Flatten(),\n",
        "    layers.Dropout(0.5),\n",
        "    layers.Dense(num_classes,activation=\"softmax\"),\n",
        "])\n",
        "\n",
        "model.summary()"
      ],
      "metadata": {
        "colab": {
          "base_uri": "https://localhost:8080/"
        },
        "id": "ASVjg2L5fc07",
        "outputId": "b7e5ba47-51eb-4428-ecbc-a20a25e21b80"
      },
      "execution_count": 11,
      "outputs": [
        {
          "output_type": "stream",
          "name": "stdout",
          "text": [
            "Model: \"sequential\"\n",
            "_________________________________________________________________\n",
            " Layer (type)                Output Shape              Param #   \n",
            "=================================================================\n",
            " conv2d_2 (Conv2D)           (None, 26, 26, 32)        320       \n",
            "                                                                 \n",
            " max_pooling2d_2 (MaxPoolin  (None, 13, 13, 32)        0         \n",
            " g2D)                                                            \n",
            "                                                                 \n",
            " conv2d_3 (Conv2D)           (None, 11, 11, 64)        18496     \n",
            "                                                                 \n",
            " max_pooling2d_3 (MaxPoolin  (None, 5, 5, 64)          0         \n",
            " g2D)                                                            \n",
            "                                                                 \n",
            " flatten (Flatten)           (None, 1600)              0         \n",
            "                                                                 \n",
            " dropout (Dropout)           (None, 1600)              0         \n",
            "                                                                 \n",
            " dense (Dense)               (None, 10)                16010     \n",
            "                                                                 \n",
            "=================================================================\n",
            "Total params: 34826 (136.04 KB)\n",
            "Trainable params: 34826 (136.04 KB)\n",
            "Non-trainable params: 0 (0.00 Byte)\n",
            "_________________________________________________________________\n"
          ]
        }
      ]
    },
    {
      "cell_type": "markdown",
      "source": [
        "Training the model"
      ],
      "metadata": {
        "id": "0CmDV6e6hEeG"
      }
    },
    {
      "cell_type": "code",
      "source": [
        "batch_size=128\n",
        "epochs=10\n",
        "\n",
        "model.compile(loss=\"categorical_crossentropy\",optimizer=\"adam\",metrics=[\"accuracy\"])\n",
        "model.fit(x_train,y_train,batch_size=batch_size,epochs=epochs,validation_split=0.1)"
      ],
      "metadata": {
        "colab": {
          "base_uri": "https://localhost:8080/"
        },
        "id": "bvvQjITqhGpk",
        "outputId": "832071c8-8c4f-45e9-d1c1-0c2fcbea670d"
      },
      "execution_count": 13,
      "outputs": [
        {
          "output_type": "stream",
          "name": "stdout",
          "text": [
            "Epoch 1/10\n",
            "422/422 [==============================] - 29s 66ms/step - loss: 0.1697 - accuracy: 0.9485 - val_loss: 0.0724 - val_accuracy: 0.9797\n",
            "Epoch 2/10\n",
            "422/422 [==============================] - 25s 60ms/step - loss: 0.0972 - accuracy: 0.9704 - val_loss: 0.0564 - val_accuracy: 0.9840\n",
            "Epoch 3/10\n",
            "422/422 [==============================] - 36s 85ms/step - loss: 0.0776 - accuracy: 0.9755 - val_loss: 0.0450 - val_accuracy: 0.9865\n",
            "Epoch 4/10\n",
            "422/422 [==============================] - 32s 76ms/step - loss: 0.0648 - accuracy: 0.9796 - val_loss: 0.0390 - val_accuracy: 0.9888\n",
            "Epoch 5/10\n",
            "422/422 [==============================] - 28s 66ms/step - loss: 0.0584 - accuracy: 0.9815 - val_loss: 0.0367 - val_accuracy: 0.9883\n",
            "Epoch 6/10\n",
            "422/422 [==============================] - 23s 55ms/step - loss: 0.0517 - accuracy: 0.9841 - val_loss: 0.0343 - val_accuracy: 0.9907\n",
            "Epoch 7/10\n",
            "422/422 [==============================] - 24s 58ms/step - loss: 0.0482 - accuracy: 0.9847 - val_loss: 0.0325 - val_accuracy: 0.9908\n",
            "Epoch 8/10\n",
            "422/422 [==============================] - 25s 59ms/step - loss: 0.0451 - accuracy: 0.9855 - val_loss: 0.0326 - val_accuracy: 0.9908\n",
            "Epoch 9/10\n",
            "422/422 [==============================] - 25s 60ms/step - loss: 0.0425 - accuracy: 0.9860 - val_loss: 0.0337 - val_accuracy: 0.9908\n",
            "Epoch 10/10\n",
            "422/422 [==============================] - 24s 57ms/step - loss: 0.0381 - accuracy: 0.9874 - val_loss: 0.0326 - val_accuracy: 0.9912\n"
          ]
        },
        {
          "output_type": "execute_result",
          "data": {
            "text/plain": [
              "<keras.src.callbacks.History at 0x7c7608318280>"
            ]
          },
          "metadata": {},
          "execution_count": 13
        }
      ]
    },
    {
      "cell_type": "markdown",
      "source": [
        "Evaluating the trained model"
      ],
      "metadata": {
        "id": "uoDriATGhyw8"
      }
    },
    {
      "cell_type": "code",
      "source": [
        "score = model.evaluate(x_test, y_test, verbose=0)\n",
        "print(\"Test loss:\", score[0])\n",
        "print(\"Test accuracy:\",score[1])"
      ],
      "metadata": {
        "colab": {
          "base_uri": "https://localhost:8080/"
        },
        "id": "9GftLvZvh_tf",
        "outputId": "00adcaec-d587-4ae9-d881-ed8a8957c6b9"
      },
      "execution_count": 14,
      "outputs": [
        {
          "output_type": "stream",
          "name": "stdout",
          "text": [
            "Test loss: 0.026162220165133476\n",
            "Test accuracy: 0.9921000003814697\n"
          ]
        }
      ]
    }
  ]
}